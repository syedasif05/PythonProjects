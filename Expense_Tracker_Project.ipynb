{
  "nbformat": 4,
  "nbformat_minor": 0,
  "metadata": {
    "colab": {
      "provenance": [],
      "authorship_tag": "ABX9TyOEoLEcmRV6s7pU/kIlvBLj",
      "include_colab_link": true
    },
    "kernelspec": {
      "name": "python3",
      "display_name": "Python 3"
    },
    "language_info": {
      "name": "python"
    }
  },
  "cells": [
    {
      "cell_type": "markdown",
      "metadata": {
        "id": "view-in-github",
        "colab_type": "text"
      },
      "source": [
        "<a href=\"https://colab.research.google.com/github/syedasif05/syed-Asif/blob/main/Expense_Tracker_Project.ipynb\" target=\"_parent\"><img src=\"https://colab.research.google.com/assets/colab-badge.svg\" alt=\"Open In Colab\"/></a>"
      ]
    },
    {
      "cell_type": "code",
      "source": [
        "import os\n",
        "import datetime\n"
      ],
      "metadata": {
        "id": "yYhp-EI9CnHR"
      },
      "execution_count": 1,
      "outputs": []
    },
    {
      "cell_type": "code",
      "source": [
        "def get_expense_data():\n",
        "    description = input(\"Enter expense description: \")\n",
        "    amount = float(input(\"Enter expense amount: \"))\n",
        "    return {\"description\": description, \"amount\": amount, \"date\": datetime.datetime.now()}\n",
        "\n"
      ],
      "metadata": {
        "id": "oMutMNlQC0X4"
      },
      "execution_count": 3,
      "outputs": []
    },
    {
      "cell_type": "code",
      "source": [
        "def display_expenses(expenses):\n",
        "    print(\"\\nExpense List:\")\n",
        "    print(\"{:<20} {:<15} {}\".format(\"Date\", \"Description\", \"Amount\"))\n",
        "    print(\"=\"*50)\n",
        "    for expense in expenses:\n",
        "        print(\"{:<20} {:<15} {}\".format(expense[\"date\"].strftime(\"%Y-%m-%d %H:%M:%S\"), expense[\"description\"], expense[\"amount\"]))\n",
        "    print(\"=\"*50)"
      ],
      "metadata": {
        "id": "nFEVhXRaC8t4"
      },
      "execution_count": 4,
      "outputs": []
    },
    {
      "cell_type": "code",
      "source": [
        "def save_expenses(expenses, filename=\"expenses.txt\"):\n",
        "    with open(filename, \"a\") as file:\n",
        "        for expense in expenses:\n",
        "            file.write(f\"{expense['date']},{expense['description']},{expense['amount']}\\n\")\n",
        "\n",
        "def load_expenses(filename=\"expenses.txt\"):\n",
        "    expenses = []\n",
        "    if os.path.exists(filename):\n",
        "        with open(filename, \"r\") as file:\n",
        "            for line in file:\n",
        "                date_str, description, amount_str = line.strip().split(',')\n",
        "                date = datetime.datetime.strptime(date_str, \"%Y-%m-%d %H:%M:%S\")\n",
        "                amount = float(amount_str)\n",
        "                expenses.append({\"date\": date, \"description\": description, \"amount\": amount})\n",
        "    return expenses"
      ],
      "metadata": {
        "id": "XNfhpgqeDECG"
      },
      "execution_count": 5,
      "outputs": []
    },
    {
      "cell_type": "code",
      "source": [
        "def main():\n",
        "    expenses = load_expenses()\n",
        "\n",
        "    while True:\n",
        "        print(\"\\n1. Add Expense\\n2. View Expenses\\n3. Quit\")\n",
        "        choice = input(\"Enter your choice (1/2/3): \")\n",
        "\n",
        "        if choice == \"1\":\n",
        "            expense_data = get_expense_data()\n",
        "            expenses.append(expense_data)\n",
        "            save_expenses([expense_data])\n",
        "            print(\"Expense added successfully!\")\n",
        "\n",
        "        elif choice == \"2\":\n",
        "            display_expenses(expenses)\n",
        "\n",
        "        elif choice == \"3\":\n",
        "            print(\"Exiting Expense Tracker. Goodbye!\")\n",
        "            break\n",
        "\n",
        "        else:\n",
        "            print(\"Invalid choice. Please enter 1, 2, or 3.\")\n",
        "\n",
        "if __name__ == \"__main__\":\n",
        "    main()"
      ],
      "metadata": {
        "colab": {
          "base_uri": "https://localhost:8080/"
        },
        "id": "3PjiM0RZDJYS",
        "outputId": "9b49ee5f-8949-42fa-8240-0224d951d820"
      },
      "execution_count": null,
      "outputs": [
        {
          "output_type": "stream",
          "name": "stdout",
          "text": [
            "\n",
            "1. Add Expense\n",
            "2. View Expenses\n",
            "3. Quit\n",
            "Enter your choice (1/2/3): 1\n",
            "Enter expense description: Hello\n",
            "Enter expense amount: 30000\n",
            "Expense added successfully!\n",
            "\n",
            "1. Add Expense\n",
            "2. View Expenses\n",
            "3. Quit\n",
            "Enter your choice (1/2/3): 2\n",
            "\n",
            "Expense List:\n",
            "Date                 Description     Amount\n",
            "==================================================\n",
            "2024-01-18 10:21:56  Hello           30000.0\n",
            "==================================================\n",
            "\n",
            "1. Add Expense\n",
            "2. View Expenses\n",
            "3. Quit\n"
          ]
        }
      ]
    }
  ]
}