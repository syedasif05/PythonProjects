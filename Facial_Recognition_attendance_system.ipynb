{
  "nbformat": 4,
  "nbformat_minor": 0,
  "metadata": {
    "colab": {
      "provenance": [],
      "authorship_tag": "ABX9TyM8OImtJ5lurbl0BwQvujkU",
      "include_colab_link": true
    },
    "kernelspec": {
      "name": "python3",
      "display_name": "Python 3"
    },
    "language_info": {
      "name": "python"
    }
  },
  "cells": [
    {
      "cell_type": "markdown",
      "metadata": {
        "id": "view-in-github",
        "colab_type": "text"
      },
      "source": [
        "<a href=\"https://colab.research.google.com/github/syedasif05/PythonProjects/blob/main/Facial_Recognition_attendance_system.ipynb\" target=\"_parent\"><img src=\"https://colab.research.google.com/assets/colab-badge.svg\" alt=\"Open In Colab\"/></a>"
      ]
    },
    {
      "cell_type": "code",
      "source": [
        "!pip install face_recognition\n",
        "!sudo apt-get install nvidia-driver-470\n",
        "import face_recognition\n",
        "import cv2\n",
        "import numpy as np\n",
        "import csv\n",
        "import os\n",
        "from datetime import datetime\n"
      ],
      "metadata": {
        "id": "BuGUwJ3_rFlM"
      },
      "execution_count": null,
      "outputs": []
    },
    {
      "cell_type": "code",
      "source": [
        "video_capture = cv2.VideoCapture(0)\n",
        "\n",
        "jobs_image = face_recognition.load_image_file(\"photos/jobs.jpg\")\n",
        "jobs_encoding = face_recognition.face_encodings(jobs_image)[0]\n",
        "\n",
        "ratan_tata_image = face_recognition.load_image_file(\"photos/tata.jpg\")\n",
        "ratan_tata_encoding = face_recognition.face_encodings(ratan_tata_image)[0]\n",
        "\n",
        "sadmona_image = face_recognition.load_image_file(\"photos/sadmona.jpg\")\n",
        "sadmona_encoding = face_recognition.face_encodings(sadmona_image)[0]\n",
        "\n",
        "tesla_image = face_recognition.load_image_file(\"photos/tesla.jpg\")\n",
        "tesla_encoding = face_recognition.face_encodings(tesla_image)[0]\n",
        "\n",
        "known_face_encoding = [\n",
        "jobs_encoding,\n",
        "ratan_tata_encoding,\n",
        "sadmona_encoding,\n",
        "tesla_encoding\n",
        "]\n",
        "\n",
        "known_faces_names = [\n",
        "\"jobs\",\n",
        "\"ratan tata\",\n",
        "\"sadmona\",\n",
        "\"tesla\"\n",
        "]\n",
        "\n",
        "students = known_faces_names.copy()\n",
        "\n",
        "face_locations = []\n",
        "face_encodings = []\n",
        "face_names = []\n",
        "s=True\n",
        "\n",
        "\n",
        "now = datetime.now()\n",
        "current_date = now.strftime(\"%Y-%m-%d\")\n",
        "\n",
        "\n",
        "\n",
        "f = open(current_date+'.csv','w+',newline = '')\n",
        "lnwriter = csv.writer(f)\n",
        "\n",
        "while True:\n",
        "    _,frame = video_capture.read()\n",
        "    small_frame = cv2.resize(frame,(0,0),fx=0.25,fy=0.25)\n",
        "    rgb_small_frame = small_frame[:,:,::-1]\n",
        "    if s:\n",
        "        face_locations = face_recognition.face_locations(rgb_small_frame)\n",
        "        face_encodings = face_recognition.face_encodings(rgb_small_frame,face_locations)\n",
        "        face_names = []\n",
        "        for face_encoding in face_encodings:\n",
        "            matches = face_recognition.compare_faces(known_face_encoding,face_encoding)\n",
        "            name=\"\"\n",
        "            face_distance = face_recognition.face_distance(known_face_encoding,face_encoding)\n",
        "            best_match_index = np.argmin(face_distance)\n",
        "            if matches[best_match_index]:\n",
        "                name = known_faces_names[best_match_index]\n",
        "\n",
        "            face_names.append(name)\n",
        "            if name in known_faces_names:\n",
        "                font = cv2.FONT_HERSHEY_SIMPLEX\n",
        "                bottomLeftCornerOfText = (10,100)\n",
        "                fontScale              = 1.5\n",
        "                fontColor              = (255,0,0)\n",
        "                thickness              = 3\n",
        "                lineType               = 2\n",
        "\n",
        "                cv2.putText(frame,name+' Present',\n",
        "                    bottomLeftCornerOfText,\n",
        "                    font,\n",
        "                    fontScale,\n",
        "                    fontColor,\n",
        "                    thickness,\n",
        "                    lineType)\n",
        "\n",
        "                if name in students:\n",
        "                    students.remove(name)\n",
        "                    print(students)\n",
        "                    current_time = now.strftime(\"%H-%M-%S\")\n",
        "                    lnwriter.writerow([name,current_time])\n",
        "    cv2.imshow(\"attendence system\",frame)\n",
        "    if cv2.waitKey(1) & 0xFF == ord('q'):\n",
        "        break\n",
        "\n",
        "video_capture.release()\n",
        "cv2.destroyAllWindows()\n",
        "f.close()"
      ],
      "metadata": {
        "id": "TCHL6KUTu52v"
      },
      "execution_count": null,
      "outputs": []
    }
  ]
}